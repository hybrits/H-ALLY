{
  "nbformat": 4,
  "nbformat_minor": 0,
  "metadata": {
    "colab": {
      "provenance": [],
      "authorship_tag": "ABX9TyNg0FfIT/VYZmuYHWrYbOpm",
      "include_colab_link": true
    },
    "kernelspec": {
      "name": "python3",
      "display_name": "Python 3"
    },
    "language_info": {
      "name": "python"
    }
  },
  "cells": [
    {
      "cell_type": "markdown",
      "metadata": {
        "id": "view-in-github",
        "colab_type": "text"
      },
      "source": [
        "<a href=\"https://colab.research.google.com/github/hybrits/H-ALLY/blob/main/Guardar_Videos_de_youtube_Canales_privados.ipynb\" target=\"_parent\"><img src=\"https://colab.research.google.com/assets/colab-badge.svg\" alt=\"Open In Colab\"/></a>"
      ]
    },
    {
      "cell_type": "code",
      "source": [
        "!pip install yt-dlp\n",
        "\n",
        "from yt_dlp import YoutubeDL\n",
        "import json\n",
        "\n",
        "def get_cookies_from_user():\n",
        "    print(\"Por favor, sigue estos pasos para obtener las cookies de YouTube:\")\n",
        "    print(\"1. Abre una nueva pestaña en tu navegador e inicia sesión en YouTube.\")\n",
        "    print(\"2. Una vez iniciada la sesión, instala la extensión 'EditThisCookie' para Chrome o Firefox.\")\n",
        "    print(\"3. Ve a YouTube.com y haz clic en el icono de 'EditThisCookie'.\")\n",
        "    print(\"4. Haz clic en 'Export' y copia todo el texto JSON de las cookies.\")\n",
        "    print(\"5. Pega el texto JSON de las cookies a continuación:\")\n",
        "\n",
        "    cookies_json = input()\n",
        "    return json.loads(cookies_json)\n",
        "\n",
        "def save_cookies_to_file(cookies):\n",
        "    with open('youtube_cookies.txt', 'w') as f:\n",
        "        for cookie in cookies:\n",
        "            f.write(f\"{cookie['domain']}\\tTRUE\\t{cookie['path']}\\t\"\n",
        "                    f\"{'FALSE' if cookie.get('expirationDate') is None else 'TRUE'}\\t\"\n",
        "                    f\"{int(cookie.get('expirationDate', 0))}\\t{cookie['name']}\\t{cookie['value']}\\n\")\n",
        "\n",
        "def download_video(url):\n",
        "    ydl_opts = {\n",
        "        'format': 'bestvideo+bestaudio/best',\n",
        "        'cookiefile': 'youtube_cookies.txt',\n",
        "        'outtmpl': '%(title)s.%(ext)s'\n",
        "    }\n",
        "\n",
        "    with YoutubeDL(ydl_opts) as ydl:\n",
        "        ydl.download([url])\n",
        "\n",
        "# Solicitar cookies e información del video\n",
        "cookies = get_cookies_from_user()\n",
        "save_cookies_to_file(cookies)\n",
        "\n",
        "video_url = input(\"Ingrese la URL del video de YouTube: \")\n",
        "\n",
        "# Descargar el video\n",
        "download_video(video_url)\n",
        "\n",
        "print(\"¡Video descargado exitosamente!\")"
      ],
      "metadata": {
        "colab": {
          "base_uri": "https://localhost:8080/",
          "height": 771
        },
        "id": "-sqghdR5CkP_",
        "outputId": "9616a606-1700-4297-b788-ce541a388288"
      },
      "execution_count": 4,
      "outputs": [
        {
          "name": "stdout",
          "output_type": "stream",
          "text": [
            "Requirement already satisfied: yt-dlp in /usr/local/lib/python3.10/dist-packages (2024.8.6)\n",
            "Requirement already satisfied: brotli in /usr/local/lib/python3.10/dist-packages (from yt-dlp) (1.1.0)\n",
            "Requirement already satisfied: certifi in /usr/local/lib/python3.10/dist-packages (from yt-dlp) (2024.7.4)\n",
            "Requirement already satisfied: mutagen in /usr/local/lib/python3.10/dist-packages (from yt-dlp) (1.47.0)\n",
            "Requirement already satisfied: pycryptodomex in /usr/local/lib/python3.10/dist-packages (from yt-dlp) (3.20.0)\n",
            "Requirement already satisfied: requests<3,>=2.32.2 in /usr/local/lib/python3.10/dist-packages (from yt-dlp) (2.32.3)\n",
            "Requirement already satisfied: urllib3<3,>=1.26.17 in /usr/local/lib/python3.10/dist-packages (from yt-dlp) (2.0.7)\n",
            "Requirement already satisfied: websockets>=12.0 in /usr/local/lib/python3.10/dist-packages (from yt-dlp) (12.0)\n",
            "Requirement already satisfied: charset-normalizer<4,>=2 in /usr/local/lib/python3.10/dist-packages (from requests<3,>=2.32.2->yt-dlp) (3.3.2)\n",
            "Requirement already satisfied: idna<4,>=2.5 in /usr/local/lib/python3.10/dist-packages (from requests<3,>=2.32.2->yt-dlp) (3.7)\n",
            "Por favor, sigue estos pasos para obtener las cookies de YouTube:\n",
            "1. Abre una nueva pestaña en tu navegador e inicia sesión en YouTube.\n",
            "2. Una vez iniciada la sesión, instala la extensión 'EditThisCookie' para Chrome o Firefox.\n",
            "3. Ve a YouTube.com y haz clic en el icono de 'EditThisCookie'.\n",
            "4. Haz clic en 'Export' y copia todo el texto JSON de las cookies.\n",
            "5. Pega el texto JSON de las cookies a continuación:\n",
            "[ {     \"domain\": \".youtube.com\",     \"expirationDate\": 1758301281.028123,     \"hostOnly\": false,     \"httpOnly\": false,     \"name\": \"__Secure-1PAPISID\",     \"path\": \"/\",     \"sameSite\": \"unspecified\",     \"secure\": true,     \"session\": false,     \"storeId\": \"0\",     \"value\": \"F_XEkkukfQIXb_mC/AmIPuSLlYk2ua9uda\",     \"id\": 1 }, {     \"domain\": \".youtube.com\",     \"expirationDate\": 1758301281.027858,     \"hostOnly\": false,     \"httpOnly\": true,     \"name\": \"__Secure-1PSID\",     \"path\": \"/\",     \"sameSite\": \"unspecified\",     \"secure\": true,     \"session\": false,     \"storeId\": \"0\",     \"value\": \"g.a000mwghZ5TgoY_F0TzAHcM5Ouy28CXWWw1Oi1pZPou5odtuY384Org7TSFiFAi9PfY7673aOgACgYKAcgSAQ4SFQHGX2MiYi48jtghZb-tD3FtwsIdiRoVAUF8yKpfkq655TiAjpm9ShQ62amf0076\",     \"id\": 2 }, {     \"domain\": \".youtube.com\",     \"expirationDate\": 1755295067.34065,     \"hostOnly\": false,     \"httpOnly\": true,     \"name\": \"__Secure-1PSIDCC\",     \"path\": \"/\",     \"sameSite\": \"unspecified\",     \"secure\": true,     \"session\": false,     \"storeId\": \"0\",     \"value\": \"AKEyXzUvS9cMfDbz2Fk58BEgAb-Ku5Ga6E6HoaHinlZ7SfqANwnClJ7FX5lZAqZtdi-IsgafDA\",     \"id\": 3 }, {     \"domain\": \".youtube.com\",     \"expirationDate\": 1755295065.947981,     \"hostOnly\": false,     \"httpOnly\": true,     \"name\": \"__Secure-1PSIDTS\",     \"path\": \"/\",     \"sameSite\": \"unspecified\",     \"secure\": true,     \"session\": false,     \"storeId\": \"0\",     \"value\": \"sidts-CjIBUFGoh1o0bSGnF7HCwtzDWRFrROUDIh75nNMqro5jnWSZkzXk1L_2P3zD1H_s_U9j7RAA\",     \"id\": 4 }, {     \"domain\": \".youtube.com\",     \"expirationDate\": 1758301281.028159,     \"hostOnly\": false,     \"httpOnly\": false,     \"name\": \"__Secure-3PAPISID\",     \"path\": \"/\",     \"sameSite\": \"no_restriction\",     \"secure\": true,     \"session\": false,     \"storeId\": \"0\",     \"value\": \"F_XEkkukfQIXb_mC/AmIPuSLlYk2ua9uda\",     \"id\": 5 }, {     \"domain\": \".youtube.com\",     \"expirationDate\": 1758301281.027904,     \"hostOnly\": false,     \"httpOnly\": true,     \"name\": \"__Secure-3PSID\",     \"path\": \"/\",     \"sameSite\": \"no_restriction\",     \"secure\": true,     \"session\": false,     \"storeId\": \"0\",     \"value\": \"g.a000mwghZ5TgoY_F0TzAHcM5Ouy28CXWWw1Oi1pZPou5odtuY384Tsm-utwoUkHzZ_RVAhhXvAACgYKAScSAQ4SFQHGX2MiDSS0H8sLPZvQw3qSL7DJ0BoVAUF8yKpztHlGIgc1IQ334C4b5ZiR0076\",     \"id\": 6 }, {     \"domain\": \".youtube.com\",     \"expirationDate\": 1755295067.340805,     \"hostOnly\": false,     \"httpOnly\": true,     \"name\": \"__Secure-3PSIDCC\",     \"path\": \"/\",     \"sameSite\": \"no_restriction\",     \"secure\": true,     \"session\": false,     \"storeId\": \"0\",     \"value\": \"AKEyXzVOR0wHDIwMuv2Yx5-sMFKNVUbeifR7SluDxVfSg-6OHERuvQOEk1KPmk1eLw_Fu-FM-w\",     \"id\": 7 }, {     \"domain\": \".youtube.com\",     \"expirationDate\": 1755295065.948227,     \"hostOnly\": false,     \"httpOnly\": true,     \"name\": \"__Secure-3PSIDTS\",     \"path\": \"/\",     \"sameSite\": \"no_restriction\",     \"secure\": true,     \"session\": false,     \"storeId\": \"0\",     \"value\": \"sidts-CjIBUFGoh1o0bSGnF7HCwtzDWRFrROUDIh75nNMqro5jnWSZkzXk1L_2P3zD1H_s_U9j7RAA\",     \"id\": 8 }, {     \"domain\": \".youtube.com\",     \"expirationDate\": 1758301281.028041,     \"hostOnly\": false,     \"httpOnly\": false,     \"name\": \"APISID\",     \"path\": \"/\",     \"sameSite\": \"unspecified\",     \"secure\": false,     \"session\": false,     \"storeId\": \"0\",     \"value\": \"qnK13I02_QHFXwV0/Ao-EiGJgUUKIcsTeR\",     \"id\": 9 }, {     \"domain\": \".youtube.com\",     \"expirationDate\": 1758301281.027963,     \"hostOnly\": false,     \"httpOnly\": true,     \"name\": \"HSID\",     \"path\": \"/\",     \"sameSite\": \"unspecified\",     \"secure\": false,     \"session\": false,     \"storeId\": \"0\",     \"value\": \"AXAXg240WXItYWK5N\",     \"id\": 10 }, {     \"domain\": \".youtube.com\",     \"expirationDate\": 1758301295.810286,     \"hostOnly\": false,     \"httpOnly\": true,     \"name\": \"LOGIN_INFO\",     \"path\": \"/\",     \"sameSite\": \"no_restriction\",     \"secure\": true,     \"session\": false,     \"storeId\": \"0\",     \"value\": \"AFmmF2swRQIhAOt9XUc8PExysyVoNMAc2npAnoxenn10Jaa5zJdTse_gAiANeTkDFkBn3-Q7uQf_yErlNeGZccSixOJweEDjfclCiA:QUQ3MjNmd3hWV2JMdkktZ0hnTWp3UE5lcExvWXRNbVNSMi0yaVlLNjNlWjcycThDR0F6c0MwQkhRQWRRVzJERUE3cHpWWVNGdlpRdlJqLWtWd0Z1c2tnZ2xQazhHM0FPVmpxclNSbFROTmhkd3lWN1liNDBZQ1VjZWh6NGdnSmVvNTR4aDdkemVMMVZkU1doVjluRmFGLV8zcnViNld6Sk5R\",     \"id\": 11 }, {     \"domain\": \".youtube.com\",     \"expirationDate\": 1758319032.564903,     \"hostOnly\": false,     \"httpOnly\": false,     \"name\": \"PREF\",     \"path\": \"/\",     \"sameSite\": \"unspecified\",     \"secure\": true,     \"session\": false,     \"storeId\": \"0\",     \"value\": \"tz=America.Bogota&f4=4000000\",     \"id\": 12 }, {     \"domain\": \".youtube.com\",     \"expirationDate\": 1758301281.028079,     \"hostOnly\": false,     \"httpOnly\": false,     \"name\": \"SAPISID\",     \"path\": \"/\",     \"sameSite\": \"unspecified\",     \"secure\": true,     \"session\": false,     \"storeId\": \"0\",     \"value\": \"F_XEkkukfQIXb_mC/AmIPuSLlYk2ua9uda\",     \"id\": 13 }, {     \"domain\": \".youtube.com\",     \"expirationDate\": 1758301281.027615,     \"hostOnly\": false,     \"httpOnly\": false,     \"name\": \"SID\",     \"path\": \"/\",     \"sameSite\": \"unspecified\",     \"secure\": false,     \"session\": false,     \"storeId\": \"0\",     \"value\": \"g.a000mwghZ5TgoY_F0TzAHcM5Ouy28CXWWw1Oi1pZPou5odtuY384RCcOxzIaq53najX1LGdA5AACgYKAQISAQ4SFQHGX2MilswkTN9Yj3ZxmJ-IzzYKvBoVAUF8yKorLMgYC9UHMC2dY1q_MiOZ0076\",     \"id\": 14 }, {     \"domain\": \".youtube.com\",     \"expirationDate\": 1755295067.34028,     \"hostOnly\": false,     \"httpOnly\": false,     \"name\": \"SIDCC\",     \"path\": \"/\",     \"sameSite\": \"unspecified\",     \"secure\": false,     \"session\": false,     \"storeId\": \"0\",     \"value\": \"AKEyXzU41JMVZHT5JEcrK2mHgstoco4U80qUIkRjhm2T74cs6mpe3zOhJ3rAwKnXpUfzqn7Pvg\",     \"id\": 15 }, {     \"domain\": \".youtube.com\",     \"expirationDate\": 1758301281.028003,     \"hostOnly\": false,     \"httpOnly\": true,     \"name\": \"SSID\",     \"path\": \"/\",     \"sameSite\": \"unspecified\",     \"secure\": true,     \"session\": false,     \"storeId\": \"0\",     \"value\": \"AQeM2HSPb1KJY4AeG\",     \"id\": 16 } ]\n",
            "Ingrese la URL del video de YouTube: https://www.youtube.com/watch?v=RuvvCR_-s4M\n"
          ]
        },
        {
          "output_type": "error",
          "ename": "LoadError",
          "evalue": "'youtube_cookies.txt' does not look like a Netscape format cookies file",
          "traceback": [
            "\u001b[0;31m---------------------------------------------------------------------------\u001b[0m",
            "\u001b[0;31mLoadError\u001b[0m                                 Traceback (most recent call last)",
            "\u001b[0;32m<ipython-input-4-3c72416f9bfb>\u001b[0m in \u001b[0;36mdownload_video\u001b[0;34m(url)\u001b[0m\n\u001b[1;32m     31\u001b[0m     \u001b[0;32mwith\u001b[0m \u001b[0mYoutubeDL\u001b[0m\u001b[0;34m(\u001b[0m\u001b[0mydl_opts\u001b[0m\u001b[0;34m)\u001b[0m \u001b[0;32mas\u001b[0m \u001b[0mydl\u001b[0m\u001b[0;34m:\u001b[0m\u001b[0;34m\u001b[0m\u001b[0;34m\u001b[0m\u001b[0m\n\u001b[0;32m---> 32\u001b[0;31m         \u001b[0mydl\u001b[0m\u001b[0;34m.\u001b[0m\u001b[0mdownload\u001b[0m\u001b[0;34m(\u001b[0m\u001b[0;34m[\u001b[0m\u001b[0murl\u001b[0m\u001b[0;34m]\u001b[0m\u001b[0;34m)\u001b[0m\u001b[0;34m\u001b[0m\u001b[0;34m\u001b[0m\u001b[0m\n\u001b[0m\u001b[1;32m     33\u001b[0m \u001b[0;34m\u001b[0m\u001b[0m\n",
            "\u001b[0;32m/usr/local/lib/python3.10/dist-packages/yt_dlp/YoutubeDL.py\u001b[0m in \u001b[0;36mdownload\u001b[0;34m(self, url_list)\u001b[0m\n\u001b[1;32m   3606\u001b[0m         \u001b[0;32mfor\u001b[0m \u001b[0murl\u001b[0m \u001b[0;32min\u001b[0m \u001b[0murl_list\u001b[0m\u001b[0;34m:\u001b[0m\u001b[0;34m\u001b[0m\u001b[0;34m\u001b[0m\u001b[0m\n\u001b[0;32m-> 3607\u001b[0;31m             self.__download_wrapper(self.extract_info)(\n\u001b[0m\u001b[1;32m   3608\u001b[0m                 url, force_generic_extractor=self.params.get('force_generic_extractor', False))\n",
            "\u001b[0;32m/usr/local/lib/python3.10/dist-packages/yt_dlp/YoutubeDL.py\u001b[0m in \u001b[0;36mwrapper\u001b[0;34m(*args, **kwargs)\u001b[0m\n\u001b[1;32m   3581\u001b[0m             \u001b[0;32mtry\u001b[0m\u001b[0;34m:\u001b[0m\u001b[0;34m\u001b[0m\u001b[0;34m\u001b[0m\u001b[0m\n\u001b[0;32m-> 3582\u001b[0;31m                 \u001b[0mres\u001b[0m \u001b[0;34m=\u001b[0m \u001b[0mfunc\u001b[0m\u001b[0;34m(\u001b[0m\u001b[0;34m*\u001b[0m\u001b[0margs\u001b[0m\u001b[0;34m,\u001b[0m \u001b[0;34m**\u001b[0m\u001b[0mkwargs\u001b[0m\u001b[0;34m)\u001b[0m\u001b[0;34m\u001b[0m\u001b[0;34m\u001b[0m\u001b[0m\n\u001b[0m\u001b[1;32m   3583\u001b[0m             \u001b[0;32mexcept\u001b[0m \u001b[0mUnavailableVideoError\u001b[0m \u001b[0;32mas\u001b[0m \u001b[0me\u001b[0m\u001b[0;34m:\u001b[0m\u001b[0;34m\u001b[0m\u001b[0;34m\u001b[0m\u001b[0m\n",
            "\u001b[0;32m/usr/local/lib/python3.10/dist-packages/yt_dlp/YoutubeDL.py\u001b[0m in \u001b[0;36mextract_info\u001b[0;34m(self, url, download, ie_key, extra_info, process, force_generic_extractor)\u001b[0m\n\u001b[1;32m   1614\u001b[0m                 \u001b[0;32mbreak\u001b[0m\u001b[0;34m\u001b[0m\u001b[0;34m\u001b[0m\u001b[0m\n\u001b[0;32m-> 1615\u001b[0;31m             \u001b[0;32mreturn\u001b[0m \u001b[0mself\u001b[0m\u001b[0;34m.\u001b[0m\u001b[0m__extract_info\u001b[0m\u001b[0;34m(\u001b[0m\u001b[0murl\u001b[0m\u001b[0;34m,\u001b[0m \u001b[0mself\u001b[0m\u001b[0;34m.\u001b[0m\u001b[0mget_info_extractor\u001b[0m\u001b[0;34m(\u001b[0m\u001b[0mkey\u001b[0m\u001b[0;34m)\u001b[0m\u001b[0;34m,\u001b[0m \u001b[0mdownload\u001b[0m\u001b[0;34m,\u001b[0m \u001b[0mextra_info\u001b[0m\u001b[0;34m,\u001b[0m \u001b[0mprocess\u001b[0m\u001b[0;34m)\u001b[0m\u001b[0;34m\u001b[0m\u001b[0;34m\u001b[0m\u001b[0m\n\u001b[0m\u001b[1;32m   1616\u001b[0m         \u001b[0;32melse\u001b[0m\u001b[0;34m:\u001b[0m\u001b[0;34m\u001b[0m\u001b[0;34m\u001b[0m\u001b[0m\n",
            "\u001b[0;32m/usr/local/lib/python3.10/dist-packages/yt_dlp/YoutubeDL.py\u001b[0m in \u001b[0;36mwrapper\u001b[0;34m(self, *args, **kwargs)\u001b[0m\n\u001b[1;32m   1625\u001b[0m                 \u001b[0;32mtry\u001b[0m\u001b[0;34m:\u001b[0m\u001b[0;34m\u001b[0m\u001b[0;34m\u001b[0m\u001b[0m\n\u001b[0;32m-> 1626\u001b[0;31m                     \u001b[0;32mreturn\u001b[0m \u001b[0mfunc\u001b[0m\u001b[0;34m(\u001b[0m\u001b[0mself\u001b[0m\u001b[0;34m,\u001b[0m \u001b[0;34m*\u001b[0m\u001b[0margs\u001b[0m\u001b[0;34m,\u001b[0m \u001b[0;34m**\u001b[0m\u001b[0mkwargs\u001b[0m\u001b[0;34m)\u001b[0m\u001b[0;34m\u001b[0m\u001b[0;34m\u001b[0m\u001b[0m\n\u001b[0m\u001b[1;32m   1627\u001b[0m                 \u001b[0;32mexcept\u001b[0m \u001b[0;34m(\u001b[0m\u001b[0mDownloadCancelled\u001b[0m\u001b[0;34m,\u001b[0m \u001b[0mLazyList\u001b[0m\u001b[0;34m.\u001b[0m\u001b[0mIndexError\u001b[0m\u001b[0;34m,\u001b[0m \u001b[0mPagedList\u001b[0m\u001b[0;34m.\u001b[0m\u001b[0mIndexError\u001b[0m\u001b[0;34m)\u001b[0m\u001b[0;34m:\u001b[0m\u001b[0;34m\u001b[0m\u001b[0;34m\u001b[0m\u001b[0m\n",
            "\u001b[0;32m/usr/local/lib/python3.10/dist-packages/yt_dlp/YoutubeDL.py\u001b[0m in \u001b[0;36m__extract_info\u001b[0;34m(self, url, ie, download, extra_info, process)\u001b[0m\n\u001b[1;32m   1760\u001b[0m         \u001b[0;32mtry\u001b[0m\u001b[0;34m:\u001b[0m\u001b[0;34m\u001b[0m\u001b[0;34m\u001b[0m\u001b[0m\n\u001b[0;32m-> 1761\u001b[0;31m             \u001b[0mie_result\u001b[0m \u001b[0;34m=\u001b[0m \u001b[0mie\u001b[0m\u001b[0;34m.\u001b[0m\u001b[0mextract\u001b[0m\u001b[0;34m(\u001b[0m\u001b[0murl\u001b[0m\u001b[0;34m)\u001b[0m\u001b[0;34m\u001b[0m\u001b[0;34m\u001b[0m\u001b[0m\n\u001b[0m\u001b[1;32m   1762\u001b[0m         \u001b[0;32mexcept\u001b[0m \u001b[0mUserNotLive\u001b[0m \u001b[0;32mas\u001b[0m \u001b[0me\u001b[0m\u001b[0;34m:\u001b[0m\u001b[0;34m\u001b[0m\u001b[0;34m\u001b[0m\u001b[0m\n",
            "\u001b[0;32m/usr/local/lib/python3.10/dist-packages/yt_dlp/extractor/common.py\u001b[0m in \u001b[0;36mextract\u001b[0;34m(self, url)\u001b[0m\n\u001b[1;32m    736\u001b[0m                 \u001b[0;32mtry\u001b[0m\u001b[0;34m:\u001b[0m\u001b[0;34m\u001b[0m\u001b[0;34m\u001b[0m\u001b[0m\n\u001b[0;32m--> 737\u001b[0;31m                     \u001b[0mself\u001b[0m\u001b[0;34m.\u001b[0m\u001b[0minitialize\u001b[0m\u001b[0;34m(\u001b[0m\u001b[0;34m)\u001b[0m\u001b[0;34m\u001b[0m\u001b[0;34m\u001b[0m\u001b[0m\n\u001b[0m\u001b[1;32m    738\u001b[0m                     self.to_screen('Extracting URL: %s' % (\n",
            "\u001b[0;32m/usr/local/lib/python3.10/dist-packages/yt_dlp/extractor/common.py\u001b[0m in \u001b[0;36minitialize\u001b[0;34m(self)\u001b[0m\n\u001b[1;32m    645\u001b[0m                 \u001b[0mself\u001b[0m\u001b[0;34m.\u001b[0m\u001b[0mreport_warning\u001b[0m\u001b[0;34m(\u001b[0m\u001b[0;34mf'Login with password is not supported for this website. {self._login_hint(\"cookies\")}'\u001b[0m\u001b[0;34m)\u001b[0m\u001b[0;34m\u001b[0m\u001b[0;34m\u001b[0m\u001b[0m\n\u001b[0;32m--> 646\u001b[0;31m             \u001b[0mself\u001b[0m\u001b[0;34m.\u001b[0m\u001b[0m_real_initialize\u001b[0m\u001b[0;34m(\u001b[0m\u001b[0;34m)\u001b[0m\u001b[0;34m\u001b[0m\u001b[0;34m\u001b[0m\u001b[0m\n\u001b[0m\u001b[1;32m    647\u001b[0m             \u001b[0mself\u001b[0m\u001b[0;34m.\u001b[0m\u001b[0m_ready\u001b[0m \u001b[0;34m=\u001b[0m \u001b[0;32mTrue\u001b[0m\u001b[0;34m\u001b[0m\u001b[0;34m\u001b[0m\u001b[0m\n",
            "\u001b[0;32m/usr/local/lib/python3.10/dist-packages/yt_dlp/extractor/youtube.py\u001b[0m in \u001b[0;36m_real_initialize\u001b[0;34m(self)\u001b[0m\n\u001b[1;32m    574\u001b[0m     \u001b[0;32mdef\u001b[0m \u001b[0m_real_initialize\u001b[0m\u001b[0;34m(\u001b[0m\u001b[0mself\u001b[0m\u001b[0;34m)\u001b[0m\u001b[0;34m:\u001b[0m\u001b[0;34m\u001b[0m\u001b[0;34m\u001b[0m\u001b[0m\n\u001b[0;32m--> 575\u001b[0;31m         \u001b[0mself\u001b[0m\u001b[0;34m.\u001b[0m\u001b[0m_initialize_pref\u001b[0m\u001b[0;34m(\u001b[0m\u001b[0;34m)\u001b[0m\u001b[0;34m\u001b[0m\u001b[0;34m\u001b[0m\u001b[0m\n\u001b[0m\u001b[1;32m    576\u001b[0m         \u001b[0mself\u001b[0m\u001b[0;34m.\u001b[0m\u001b[0m_initialize_consent\u001b[0m\u001b[0;34m(\u001b[0m\u001b[0;34m)\u001b[0m\u001b[0;34m\u001b[0m\u001b[0;34m\u001b[0m\u001b[0m\n",
            "\u001b[0;32m/usr/local/lib/python3.10/dist-packages/yt_dlp/extractor/youtube.py\u001b[0m in \u001b[0;36m_initialize_pref\u001b[0;34m(self)\u001b[0m\n\u001b[1;32m    562\u001b[0m     \u001b[0;32mdef\u001b[0m \u001b[0m_initialize_pref\u001b[0m\u001b[0;34m(\u001b[0m\u001b[0mself\u001b[0m\u001b[0;34m)\u001b[0m\u001b[0;34m:\u001b[0m\u001b[0;34m\u001b[0m\u001b[0;34m\u001b[0m\u001b[0m\n\u001b[0;32m--> 563\u001b[0;31m         \u001b[0mcookies\u001b[0m \u001b[0;34m=\u001b[0m \u001b[0mself\u001b[0m\u001b[0;34m.\u001b[0m\u001b[0m_get_cookies\u001b[0m\u001b[0;34m(\u001b[0m\u001b[0;34m'https://www.youtube.com/'\u001b[0m\u001b[0;34m)\u001b[0m\u001b[0;34m\u001b[0m\u001b[0;34m\u001b[0m\u001b[0m\n\u001b[0m\u001b[1;32m    564\u001b[0m         \u001b[0mpref_cookie\u001b[0m \u001b[0;34m=\u001b[0m \u001b[0mcookies\u001b[0m\u001b[0;34m.\u001b[0m\u001b[0mget\u001b[0m\u001b[0;34m(\u001b[0m\u001b[0;34m'PREF'\u001b[0m\u001b[0;34m)\u001b[0m\u001b[0;34m\u001b[0m\u001b[0;34m\u001b[0m\u001b[0m\n",
            "\u001b[0;32m/usr/local/lib/python3.10/dist-packages/yt_dlp/extractor/common.py\u001b[0m in \u001b[0;36m_get_cookies\u001b[0;34m(self, url)\u001b[0m\n\u001b[1;32m   3577\u001b[0m         \u001b[0;34m\"\"\" Return a http.cookies.SimpleCookie with the cookies for the url \"\"\"\u001b[0m\u001b[0;34m\u001b[0m\u001b[0;34m\u001b[0m\u001b[0m\n\u001b[0;32m-> 3578\u001b[0;31m         \u001b[0;32mreturn\u001b[0m \u001b[0mLenientSimpleCookie\u001b[0m\u001b[0;34m(\u001b[0m\u001b[0mself\u001b[0m\u001b[0;34m.\u001b[0m\u001b[0m_downloader\u001b[0m\u001b[0;34m.\u001b[0m\u001b[0mcookiejar\u001b[0m\u001b[0;34m.\u001b[0m\u001b[0mget_cookie_header\u001b[0m\u001b[0;34m(\u001b[0m\u001b[0murl\u001b[0m\u001b[0;34m)\u001b[0m\u001b[0;34m)\u001b[0m\u001b[0;34m\u001b[0m\u001b[0;34m\u001b[0m\u001b[0m\n\u001b[0m\u001b[1;32m   3579\u001b[0m \u001b[0;34m\u001b[0m\u001b[0m\n",
            "\u001b[0;32m/usr/lib/python3.10/functools.py\u001b[0m in \u001b[0;36m__get__\u001b[0;34m(self, instance, owner)\u001b[0m\n\u001b[1;32m    980\u001b[0m                 \u001b[0;32mif\u001b[0m \u001b[0mval\u001b[0m \u001b[0;32mis\u001b[0m \u001b[0m_NOT_FOUND\u001b[0m\u001b[0;34m:\u001b[0m\u001b[0;34m\u001b[0m\u001b[0;34m\u001b[0m\u001b[0m\n\u001b[0;32m--> 981\u001b[0;31m                     \u001b[0mval\u001b[0m \u001b[0;34m=\u001b[0m \u001b[0mself\u001b[0m\u001b[0;34m.\u001b[0m\u001b[0mfunc\u001b[0m\u001b[0;34m(\u001b[0m\u001b[0minstance\u001b[0m\u001b[0;34m)\u001b[0m\u001b[0;34m\u001b[0m\u001b[0;34m\u001b[0m\u001b[0m\n\u001b[0m\u001b[1;32m    982\u001b[0m                     \u001b[0;32mtry\u001b[0m\u001b[0;34m:\u001b[0m\u001b[0;34m\u001b[0m\u001b[0;34m\u001b[0m\u001b[0m\n",
            "\u001b[0;32m/usr/local/lib/python3.10/dist-packages/yt_dlp/YoutubeDL.py\u001b[0m in \u001b[0;36mcookiejar\u001b[0;34m(self)\u001b[0m\n\u001b[1;32m   4115\u001b[0m         \u001b[0;34m\"\"\"Global cookiejar instance\"\"\"\u001b[0m\u001b[0;34m\u001b[0m\u001b[0;34m\u001b[0m\u001b[0m\n\u001b[0;32m-> 4116\u001b[0;31m         return load_cookies(\n\u001b[0m\u001b[1;32m   4117\u001b[0m             self.params.get('cookiefile'), self.params.get('cookiesfrombrowser'), self)\n",
            "\u001b[0;32m/usr/local/lib/python3.10/dist-packages/yt_dlp/cookies.py\u001b[0m in \u001b[0;36mload_cookies\u001b[0;34m(cookie_file, browser_specification, ydl)\u001b[0m\n\u001b[1;32m    102\u001b[0m         \u001b[0;32mif\u001b[0m \u001b[0;32mnot\u001b[0m \u001b[0mis_filename\u001b[0m \u001b[0;32mor\u001b[0m \u001b[0mos\u001b[0m\u001b[0;34m.\u001b[0m\u001b[0maccess\u001b[0m\u001b[0;34m(\u001b[0m\u001b[0mcookie_file\u001b[0m\u001b[0;34m,\u001b[0m \u001b[0mos\u001b[0m\u001b[0;34m.\u001b[0m\u001b[0mR_OK\u001b[0m\u001b[0;34m)\u001b[0m\u001b[0;34m:\u001b[0m\u001b[0;34m\u001b[0m\u001b[0;34m\u001b[0m\u001b[0m\n\u001b[0;32m--> 103\u001b[0;31m             \u001b[0mjar\u001b[0m\u001b[0;34m.\u001b[0m\u001b[0mload\u001b[0m\u001b[0;34m(\u001b[0m\u001b[0;34m)\u001b[0m\u001b[0;34m\u001b[0m\u001b[0;34m\u001b[0m\u001b[0m\n\u001b[0m\u001b[1;32m    104\u001b[0m         \u001b[0mcookie_jars\u001b[0m\u001b[0;34m.\u001b[0m\u001b[0mappend\u001b[0m\u001b[0;34m(\u001b[0m\u001b[0mjar\u001b[0m\u001b[0;34m)\u001b[0m\u001b[0;34m\u001b[0m\u001b[0;34m\u001b[0m\u001b[0m\n",
            "\u001b[0;32m/usr/local/lib/python3.10/dist-packages/yt_dlp/cookies.py\u001b[0m in \u001b[0;36mload\u001b[0;34m(self, filename, ignore_discard, ignore_expires)\u001b[0m\n\u001b[1;32m   1324\u001b[0m         \u001b[0mcf\u001b[0m\u001b[0;34m.\u001b[0m\u001b[0mseek\u001b[0m\u001b[0;34m(\u001b[0m\u001b[0;36m0\u001b[0m\u001b[0;34m)\u001b[0m\u001b[0;34m\u001b[0m\u001b[0;34m\u001b[0m\u001b[0m\n\u001b[0;32m-> 1325\u001b[0;31m         \u001b[0mself\u001b[0m\u001b[0;34m.\u001b[0m\u001b[0m_really_load\u001b[0m\u001b[0;34m(\u001b[0m\u001b[0mcf\u001b[0m\u001b[0;34m,\u001b[0m \u001b[0mfilename\u001b[0m\u001b[0;34m,\u001b[0m \u001b[0mignore_discard\u001b[0m\u001b[0;34m,\u001b[0m \u001b[0mignore_expires\u001b[0m\u001b[0;34m)\u001b[0m\u001b[0;34m\u001b[0m\u001b[0;34m\u001b[0m\u001b[0m\n\u001b[0m\u001b[1;32m   1326\u001b[0m         \u001b[0;31m# Session cookies are denoted by either `expires` field set to\u001b[0m\u001b[0;34m\u001b[0m\u001b[0;34m\u001b[0m\u001b[0m\n",
            "\u001b[0;32m/usr/lib/python3.10/http/cookiejar.py\u001b[0m in \u001b[0;36m_really_load\u001b[0;34m(self, f, filename, ignore_discard, ignore_expires)\u001b[0m\n\u001b[1;32m   2019\u001b[0m         \u001b[0;32mif\u001b[0m \u001b[0;32mnot\u001b[0m \u001b[0mNETSCAPE_MAGIC_RGX\u001b[0m\u001b[0;34m.\u001b[0m\u001b[0mmatch\u001b[0m\u001b[0;34m(\u001b[0m\u001b[0mf\u001b[0m\u001b[0;34m.\u001b[0m\u001b[0mreadline\u001b[0m\u001b[0;34m(\u001b[0m\u001b[0;34m)\u001b[0m\u001b[0;34m)\u001b[0m\u001b[0;34m:\u001b[0m\u001b[0;34m\u001b[0m\u001b[0;34m\u001b[0m\u001b[0m\n\u001b[0;32m-> 2020\u001b[0;31m             raise LoadError(\n\u001b[0m\u001b[1;32m   2021\u001b[0m                 \u001b[0;34m\"%r does not look like a Netscape format cookies file\"\u001b[0m \u001b[0;34m%\u001b[0m\u001b[0;34m\u001b[0m\u001b[0;34m\u001b[0m\u001b[0m\n",
            "\u001b[0;31mLoadError\u001b[0m: 'youtube_cookies.txt' does not look like a Netscape format cookies file",
            "\nDuring handling of the above exception, another exception occurred:\n",
            "\u001b[0;31mLoadError\u001b[0m                                 Traceback (most recent call last)",
            "\u001b[0;32m<ipython-input-4-3c72416f9bfb>\u001b[0m in \u001b[0;36m<cell line: 41>\u001b[0;34m()\u001b[0m\n\u001b[1;32m     39\u001b[0m \u001b[0;34m\u001b[0m\u001b[0m\n\u001b[1;32m     40\u001b[0m \u001b[0;31m# Descargar el video\u001b[0m\u001b[0;34m\u001b[0m\u001b[0;34m\u001b[0m\u001b[0m\n\u001b[0;32m---> 41\u001b[0;31m \u001b[0mdownload_video\u001b[0m\u001b[0;34m(\u001b[0m\u001b[0mvideo_url\u001b[0m\u001b[0;34m)\u001b[0m\u001b[0;34m\u001b[0m\u001b[0;34m\u001b[0m\u001b[0m\n\u001b[0m\u001b[1;32m     42\u001b[0m \u001b[0;34m\u001b[0m\u001b[0m\n\u001b[1;32m     43\u001b[0m \u001b[0mprint\u001b[0m\u001b[0;34m(\u001b[0m\u001b[0;34m\"¡Video descargado exitosamente!\"\u001b[0m\u001b[0;34m)\u001b[0m\u001b[0;34m\u001b[0m\u001b[0;34m\u001b[0m\u001b[0m\n",
            "\u001b[0;32m<ipython-input-4-3c72416f9bfb>\u001b[0m in \u001b[0;36mdownload_video\u001b[0;34m(url)\u001b[0m\n\u001b[1;32m     29\u001b[0m     }\n\u001b[1;32m     30\u001b[0m \u001b[0;34m\u001b[0m\u001b[0m\n\u001b[0;32m---> 31\u001b[0;31m     \u001b[0;32mwith\u001b[0m \u001b[0mYoutubeDL\u001b[0m\u001b[0;34m(\u001b[0m\u001b[0mydl_opts\u001b[0m\u001b[0;34m)\u001b[0m \u001b[0;32mas\u001b[0m \u001b[0mydl\u001b[0m\u001b[0;34m:\u001b[0m\u001b[0;34m\u001b[0m\u001b[0;34m\u001b[0m\u001b[0m\n\u001b[0m\u001b[1;32m     32\u001b[0m         \u001b[0mydl\u001b[0m\u001b[0;34m.\u001b[0m\u001b[0mdownload\u001b[0m\u001b[0;34m(\u001b[0m\u001b[0;34m[\u001b[0m\u001b[0murl\u001b[0m\u001b[0;34m]\u001b[0m\u001b[0;34m)\u001b[0m\u001b[0;34m\u001b[0m\u001b[0;34m\u001b[0m\u001b[0m\n\u001b[1;32m     33\u001b[0m \u001b[0;34m\u001b[0m\u001b[0m\n",
            "\u001b[0;32m/usr/local/lib/python3.10/dist-packages/yt_dlp/YoutubeDL.py\u001b[0m in \u001b[0;36m__exit__\u001b[0;34m(self, *args)\u001b[0m\n\u001b[1;32m    990\u001b[0m     \u001b[0;32mdef\u001b[0m \u001b[0m__exit__\u001b[0m\u001b[0;34m(\u001b[0m\u001b[0mself\u001b[0m\u001b[0;34m,\u001b[0m \u001b[0;34m*\u001b[0m\u001b[0margs\u001b[0m\u001b[0;34m)\u001b[0m\u001b[0;34m:\u001b[0m\u001b[0;34m\u001b[0m\u001b[0;34m\u001b[0m\u001b[0m\n\u001b[1;32m    991\u001b[0m         \u001b[0mself\u001b[0m\u001b[0;34m.\u001b[0m\u001b[0mrestore_console_title\u001b[0m\u001b[0;34m(\u001b[0m\u001b[0;34m)\u001b[0m\u001b[0;34m\u001b[0m\u001b[0;34m\u001b[0m\u001b[0m\n\u001b[0;32m--> 992\u001b[0;31m         \u001b[0mself\u001b[0m\u001b[0;34m.\u001b[0m\u001b[0mclose\u001b[0m\u001b[0;34m(\u001b[0m\u001b[0;34m)\u001b[0m\u001b[0;34m\u001b[0m\u001b[0;34m\u001b[0m\u001b[0m\n\u001b[0m\u001b[1;32m    993\u001b[0m \u001b[0;34m\u001b[0m\u001b[0m\n\u001b[1;32m    994\u001b[0m     \u001b[0;32mdef\u001b[0m \u001b[0mclose\u001b[0m\u001b[0;34m(\u001b[0m\u001b[0mself\u001b[0m\u001b[0;34m)\u001b[0m\u001b[0;34m:\u001b[0m\u001b[0;34m\u001b[0m\u001b[0;34m\u001b[0m\u001b[0m\n",
            "\u001b[0;32m/usr/local/lib/python3.10/dist-packages/yt_dlp/YoutubeDL.py\u001b[0m in \u001b[0;36mclose\u001b[0;34m(self)\u001b[0m\n\u001b[1;32m    993\u001b[0m \u001b[0;34m\u001b[0m\u001b[0m\n\u001b[1;32m    994\u001b[0m     \u001b[0;32mdef\u001b[0m \u001b[0mclose\u001b[0m\u001b[0;34m(\u001b[0m\u001b[0mself\u001b[0m\u001b[0;34m)\u001b[0m\u001b[0;34m:\u001b[0m\u001b[0;34m\u001b[0m\u001b[0;34m\u001b[0m\u001b[0m\n\u001b[0;32m--> 995\u001b[0;31m         \u001b[0mself\u001b[0m\u001b[0;34m.\u001b[0m\u001b[0msave_cookies\u001b[0m\u001b[0;34m(\u001b[0m\u001b[0;34m)\u001b[0m\u001b[0;34m\u001b[0m\u001b[0;34m\u001b[0m\u001b[0m\n\u001b[0m\u001b[1;32m    996\u001b[0m         \u001b[0;32mif\u001b[0m \u001b[0;34m'_request_director'\u001b[0m \u001b[0;32min\u001b[0m \u001b[0mself\u001b[0m\u001b[0;34m.\u001b[0m\u001b[0m__dict__\u001b[0m\u001b[0;34m:\u001b[0m\u001b[0;34m\u001b[0m\u001b[0;34m\u001b[0m\u001b[0m\n\u001b[1;32m    997\u001b[0m             \u001b[0mself\u001b[0m\u001b[0;34m.\u001b[0m\u001b[0m_request_director\u001b[0m\u001b[0;34m.\u001b[0m\u001b[0mclose\u001b[0m\u001b[0;34m(\u001b[0m\u001b[0;34m)\u001b[0m\u001b[0;34m\u001b[0m\u001b[0;34m\u001b[0m\u001b[0m\n",
            "\u001b[0;32m/usr/local/lib/python3.10/dist-packages/yt_dlp/YoutubeDL.py\u001b[0m in \u001b[0;36msave_cookies\u001b[0;34m(self)\u001b[0m\n\u001b[1;32m    986\u001b[0m     \u001b[0;32mdef\u001b[0m \u001b[0msave_cookies\u001b[0m\u001b[0;34m(\u001b[0m\u001b[0mself\u001b[0m\u001b[0;34m)\u001b[0m\u001b[0;34m:\u001b[0m\u001b[0;34m\u001b[0m\u001b[0;34m\u001b[0m\u001b[0m\n\u001b[1;32m    987\u001b[0m         \u001b[0;32mif\u001b[0m \u001b[0mself\u001b[0m\u001b[0;34m.\u001b[0m\u001b[0mparams\u001b[0m\u001b[0;34m.\u001b[0m\u001b[0mget\u001b[0m\u001b[0;34m(\u001b[0m\u001b[0;34m'cookiefile'\u001b[0m\u001b[0;34m)\u001b[0m \u001b[0;32mis\u001b[0m \u001b[0;32mnot\u001b[0m \u001b[0;32mNone\u001b[0m\u001b[0;34m:\u001b[0m\u001b[0;34m\u001b[0m\u001b[0;34m\u001b[0m\u001b[0m\n\u001b[0;32m--> 988\u001b[0;31m             \u001b[0mself\u001b[0m\u001b[0;34m.\u001b[0m\u001b[0mcookiejar\u001b[0m\u001b[0;34m.\u001b[0m\u001b[0msave\u001b[0m\u001b[0;34m(\u001b[0m\u001b[0;34m)\u001b[0m\u001b[0;34m\u001b[0m\u001b[0;34m\u001b[0m\u001b[0m\n\u001b[0m\u001b[1;32m    989\u001b[0m \u001b[0;34m\u001b[0m\u001b[0m\n\u001b[1;32m    990\u001b[0m     \u001b[0;32mdef\u001b[0m \u001b[0m__exit__\u001b[0m\u001b[0;34m(\u001b[0m\u001b[0mself\u001b[0m\u001b[0;34m,\u001b[0m \u001b[0;34m*\u001b[0m\u001b[0margs\u001b[0m\u001b[0;34m)\u001b[0m\u001b[0;34m:\u001b[0m\u001b[0;34m\u001b[0m\u001b[0;34m\u001b[0m\u001b[0m\n",
            "\u001b[0;32m/usr/lib/python3.10/functools.py\u001b[0m in \u001b[0;36m__get__\u001b[0;34m(self, instance, owner)\u001b[0m\n\u001b[1;32m    979\u001b[0m                 \u001b[0mval\u001b[0m \u001b[0;34m=\u001b[0m \u001b[0mcache\u001b[0m\u001b[0;34m.\u001b[0m\u001b[0mget\u001b[0m\u001b[0;34m(\u001b[0m\u001b[0mself\u001b[0m\u001b[0;34m.\u001b[0m\u001b[0mattrname\u001b[0m\u001b[0;34m,\u001b[0m \u001b[0m_NOT_FOUND\u001b[0m\u001b[0;34m)\u001b[0m\u001b[0;34m\u001b[0m\u001b[0;34m\u001b[0m\u001b[0m\n\u001b[1;32m    980\u001b[0m                 \u001b[0;32mif\u001b[0m \u001b[0mval\u001b[0m \u001b[0;32mis\u001b[0m \u001b[0m_NOT_FOUND\u001b[0m\u001b[0;34m:\u001b[0m\u001b[0;34m\u001b[0m\u001b[0;34m\u001b[0m\u001b[0m\n\u001b[0;32m--> 981\u001b[0;31m                     \u001b[0mval\u001b[0m \u001b[0;34m=\u001b[0m \u001b[0mself\u001b[0m\u001b[0;34m.\u001b[0m\u001b[0mfunc\u001b[0m\u001b[0;34m(\u001b[0m\u001b[0minstance\u001b[0m\u001b[0;34m)\u001b[0m\u001b[0;34m\u001b[0m\u001b[0;34m\u001b[0m\u001b[0m\n\u001b[0m\u001b[1;32m    982\u001b[0m                     \u001b[0;32mtry\u001b[0m\u001b[0;34m:\u001b[0m\u001b[0;34m\u001b[0m\u001b[0;34m\u001b[0m\u001b[0m\n\u001b[1;32m    983\u001b[0m                         \u001b[0mcache\u001b[0m\u001b[0;34m[\u001b[0m\u001b[0mself\u001b[0m\u001b[0;34m.\u001b[0m\u001b[0mattrname\u001b[0m\u001b[0;34m]\u001b[0m \u001b[0;34m=\u001b[0m \u001b[0mval\u001b[0m\u001b[0;34m\u001b[0m\u001b[0;34m\u001b[0m\u001b[0m\n",
            "\u001b[0;32m/usr/local/lib/python3.10/dist-packages/yt_dlp/YoutubeDL.py\u001b[0m in \u001b[0;36mcookiejar\u001b[0;34m(self)\u001b[0m\n\u001b[1;32m   4114\u001b[0m     \u001b[0;32mdef\u001b[0m \u001b[0mcookiejar\u001b[0m\u001b[0;34m(\u001b[0m\u001b[0mself\u001b[0m\u001b[0;34m)\u001b[0m\u001b[0;34m:\u001b[0m\u001b[0;34m\u001b[0m\u001b[0;34m\u001b[0m\u001b[0m\n\u001b[1;32m   4115\u001b[0m         \u001b[0;34m\"\"\"Global cookiejar instance\"\"\"\u001b[0m\u001b[0;34m\u001b[0m\u001b[0;34m\u001b[0m\u001b[0m\n\u001b[0;32m-> 4116\u001b[0;31m         return load_cookies(\n\u001b[0m\u001b[1;32m   4117\u001b[0m             self.params.get('cookiefile'), self.params.get('cookiesfrombrowser'), self)\n\u001b[1;32m   4118\u001b[0m \u001b[0;34m\u001b[0m\u001b[0m\n",
            "\u001b[0;32m/usr/local/lib/python3.10/dist-packages/yt_dlp/cookies.py\u001b[0m in \u001b[0;36mload_cookies\u001b[0;34m(cookie_file, browser_specification, ydl)\u001b[0m\n\u001b[1;32m    101\u001b[0m         \u001b[0mjar\u001b[0m \u001b[0;34m=\u001b[0m \u001b[0mYoutubeDLCookieJar\u001b[0m\u001b[0;34m(\u001b[0m\u001b[0mcookie_file\u001b[0m\u001b[0;34m)\u001b[0m\u001b[0;34m\u001b[0m\u001b[0;34m\u001b[0m\u001b[0m\n\u001b[1;32m    102\u001b[0m         \u001b[0;32mif\u001b[0m \u001b[0;32mnot\u001b[0m \u001b[0mis_filename\u001b[0m \u001b[0;32mor\u001b[0m \u001b[0mos\u001b[0m\u001b[0;34m.\u001b[0m\u001b[0maccess\u001b[0m\u001b[0;34m(\u001b[0m\u001b[0mcookie_file\u001b[0m\u001b[0;34m,\u001b[0m \u001b[0mos\u001b[0m\u001b[0;34m.\u001b[0m\u001b[0mR_OK\u001b[0m\u001b[0;34m)\u001b[0m\u001b[0;34m:\u001b[0m\u001b[0;34m\u001b[0m\u001b[0;34m\u001b[0m\u001b[0m\n\u001b[0;32m--> 103\u001b[0;31m             \u001b[0mjar\u001b[0m\u001b[0;34m.\u001b[0m\u001b[0mload\u001b[0m\u001b[0;34m(\u001b[0m\u001b[0;34m)\u001b[0m\u001b[0;34m\u001b[0m\u001b[0;34m\u001b[0m\u001b[0m\n\u001b[0m\u001b[1;32m    104\u001b[0m         \u001b[0mcookie_jars\u001b[0m\u001b[0;34m.\u001b[0m\u001b[0mappend\u001b[0m\u001b[0;34m(\u001b[0m\u001b[0mjar\u001b[0m\u001b[0;34m)\u001b[0m\u001b[0;34m\u001b[0m\u001b[0;34m\u001b[0m\u001b[0m\n\u001b[1;32m    105\u001b[0m \u001b[0;34m\u001b[0m\u001b[0m\n",
            "\u001b[0;32m/usr/local/lib/python3.10/dist-packages/yt_dlp/cookies.py\u001b[0m in \u001b[0;36mload\u001b[0;34m(self, filename, ignore_discard, ignore_expires)\u001b[0m\n\u001b[1;32m   1323\u001b[0m                     \u001b[0;32mcontinue\u001b[0m\u001b[0;34m\u001b[0m\u001b[0;34m\u001b[0m\u001b[0m\n\u001b[1;32m   1324\u001b[0m         \u001b[0mcf\u001b[0m\u001b[0;34m.\u001b[0m\u001b[0mseek\u001b[0m\u001b[0;34m(\u001b[0m\u001b[0;36m0\u001b[0m\u001b[0;34m)\u001b[0m\u001b[0;34m\u001b[0m\u001b[0;34m\u001b[0m\u001b[0m\n\u001b[0;32m-> 1325\u001b[0;31m         \u001b[0mself\u001b[0m\u001b[0;34m.\u001b[0m\u001b[0m_really_load\u001b[0m\u001b[0;34m(\u001b[0m\u001b[0mcf\u001b[0m\u001b[0;34m,\u001b[0m \u001b[0mfilename\u001b[0m\u001b[0;34m,\u001b[0m \u001b[0mignore_discard\u001b[0m\u001b[0;34m,\u001b[0m \u001b[0mignore_expires\u001b[0m\u001b[0;34m)\u001b[0m\u001b[0;34m\u001b[0m\u001b[0;34m\u001b[0m\u001b[0m\n\u001b[0m\u001b[1;32m   1326\u001b[0m         \u001b[0;31m# Session cookies are denoted by either `expires` field set to\u001b[0m\u001b[0;34m\u001b[0m\u001b[0;34m\u001b[0m\u001b[0m\n\u001b[1;32m   1327\u001b[0m         \u001b[0;31m# an empty string or 0. MozillaCookieJar only recognizes the former\u001b[0m\u001b[0;34m\u001b[0m\u001b[0;34m\u001b[0m\u001b[0m\n",
            "\u001b[0;32m/usr/lib/python3.10/http/cookiejar.py\u001b[0m in \u001b[0;36m_really_load\u001b[0;34m(self, f, filename, ignore_discard, ignore_expires)\u001b[0m\n\u001b[1;32m   2018\u001b[0m \u001b[0;34m\u001b[0m\u001b[0m\n\u001b[1;32m   2019\u001b[0m         \u001b[0;32mif\u001b[0m \u001b[0;32mnot\u001b[0m \u001b[0mNETSCAPE_MAGIC_RGX\u001b[0m\u001b[0;34m.\u001b[0m\u001b[0mmatch\u001b[0m\u001b[0;34m(\u001b[0m\u001b[0mf\u001b[0m\u001b[0;34m.\u001b[0m\u001b[0mreadline\u001b[0m\u001b[0;34m(\u001b[0m\u001b[0;34m)\u001b[0m\u001b[0;34m)\u001b[0m\u001b[0;34m:\u001b[0m\u001b[0;34m\u001b[0m\u001b[0;34m\u001b[0m\u001b[0m\n\u001b[0;32m-> 2020\u001b[0;31m             raise LoadError(\n\u001b[0m\u001b[1;32m   2021\u001b[0m                 \u001b[0;34m\"%r does not look like a Netscape format cookies file\"\u001b[0m \u001b[0;34m%\u001b[0m\u001b[0;34m\u001b[0m\u001b[0;34m\u001b[0m\u001b[0m\n\u001b[1;32m   2022\u001b[0m                 filename)\n",
            "\u001b[0;31mLoadError\u001b[0m: 'youtube_cookies.txt' does not look like a Netscape format cookies file"
          ]
        }
      ]
    },
    {
      "cell_type": "code",
      "source": [
        "!pip install yt-dlp\n",
        "\n",
        "from yt_dlp import YoutubeDL\n",
        "import json\n",
        "import time\n",
        "\n",
        "def get_cookies_from_user():\n",
        "    print(\"Por favor, sigue estos pasos para obtener las cookies de YouTube:\")\n",
        "    print(\"1. Abre una nueva pestaña en tu navegador e inicia sesión en YouTube.\")\n",
        "    print(\"2. Una vez iniciada la sesión, instala la extensión 'EditThisCookie' para Chrome o Firefox.\")\n",
        "    print(\"3. Ve a YouTube.com y haz clic en el icono de 'EditThisCookie'.\")\n",
        "    print(\"4. Haz clic en 'Export' y copia todo el texto JSON de las cookies.\")\n",
        "    print(\"5. Pega el texto JSON de las cookies a continuación:\")\n",
        "\n",
        "    cookies_json = input()\n",
        "    return json.loads(cookies_json)\n",
        "\n",
        "def save_cookies_to_file(cookies):\n",
        "    with open('youtube_cookies.txt', 'w') as f:\n",
        "        f.write(\"# Netscape HTTP Cookie File\\n\")  # Este encabezado es crucial\n",
        "        for cookie in cookies:\n",
        "            secure = \"TRUE\" if cookie.get('secure', False) else \"FALSE\"\n",
        "            http_only = \"TRUE\" if cookie.get('httpOnly', False) else \"FALSE\"\n",
        "            expires = int(cookie.get('expirationDate', time.time() + 3600 * 24 * 365))\n",
        "\n",
        "            f.write(f\"{cookie['domain']}\\t\"\n",
        "                    f\"{'TRUE' if cookie['domain'].startswith('.') else 'FALSE'}\\t\"\n",
        "                    f\"{cookie['path']}\\t\"\n",
        "                    f\"{secure}\\t\"\n",
        "                    f\"{expires}\\t\"\n",
        "                    f\"{cookie['name']}\\t\"\n",
        "                    f\"{cookie['value']}\\n\")\n",
        "\n",
        "def download_video(url):\n",
        "    ydl_opts = {\n",
        "        'format': 'bestvideo+bestaudio/best',\n",
        "        'cookiefile': 'youtube_cookies.txt',\n",
        "        'outtmpl': '%(title)s.%(ext)s'\n",
        "    }\n",
        "\n",
        "    with YoutubeDL(ydl_opts) as ydl:\n",
        "        ydl.download([url])\n",
        "\n",
        "# Solicitar cookies e información del video\n",
        "cookies = get_cookies_from_user()\n",
        "save_cookies_to_file(cookies)\n",
        "\n",
        "video_url = input(\"Ingrese la URL del video de YouTube: \")\n",
        "\n",
        "# Descargar el video\n",
        "try:\n",
        "    download_video(video_url)\n",
        "    print(\"¡Video descargado exitosamente!\")\n",
        "except Exception as e:\n",
        "    print(f\"Se produjo un error al descargar el video: {str(e)}\")\n",
        "    print(\"Por favor, verifica que las cookies sean válidas y que la URL del video sea correcta.\")"
      ],
      "metadata": {
        "colab": {
          "base_uri": "https://localhost:8080/"
        },
        "id": "5BeA40hpD7C2",
        "outputId": "bcf51699-6a89-456e-a24a-c9d2718c35b1"
      },
      "execution_count": null,
      "outputs": [
        {
          "output_type": "stream",
          "name": "stdout",
          "text": [
            "Requirement already satisfied: yt-dlp in /usr/local/lib/python3.10/dist-packages (2024.8.6)\n",
            "Requirement already satisfied: brotli in /usr/local/lib/python3.10/dist-packages (from yt-dlp) (1.1.0)\n",
            "Requirement already satisfied: certifi in /usr/local/lib/python3.10/dist-packages (from yt-dlp) (2024.7.4)\n",
            "Requirement already satisfied: mutagen in /usr/local/lib/python3.10/dist-packages (from yt-dlp) (1.47.0)\n",
            "Requirement already satisfied: pycryptodomex in /usr/local/lib/python3.10/dist-packages (from yt-dlp) (3.20.0)\n",
            "Requirement already satisfied: requests<3,>=2.32.2 in /usr/local/lib/python3.10/dist-packages (from yt-dlp) (2.32.3)\n",
            "Requirement already satisfied: urllib3<3,>=1.26.17 in /usr/local/lib/python3.10/dist-packages (from yt-dlp) (2.0.7)\n",
            "Requirement already satisfied: websockets>=12.0 in /usr/local/lib/python3.10/dist-packages (from yt-dlp) (12.0)\n",
            "Requirement already satisfied: charset-normalizer<4,>=2 in /usr/local/lib/python3.10/dist-packages (from requests<3,>=2.32.2->yt-dlp) (3.3.2)\n",
            "Requirement already satisfied: idna<4,>=2.5 in /usr/local/lib/python3.10/dist-packages (from requests<3,>=2.32.2->yt-dlp) (3.7)\n",
            "Por favor, sigue estos pasos para obtener las cookies de YouTube:\n",
            "1. Abre una nueva pestaña en tu navegador e inicia sesión en YouTube.\n",
            "2. Una vez iniciada la sesión, instala la extensión 'EditThisCookie' para Chrome o Firefox.\n",
            "3. Ve a YouTube.com y haz clic en el icono de 'EditThisCookie'.\n",
            "4. Haz clic en 'Export' y copia todo el texto JSON de las cookies.\n",
            "5. Pega el texto JSON de las cookies a continuación:\n",
            "[ {     \"domain\": \".youtube.com\",     \"expirationDate\": 1758301281.028123,     \"hostOnly\": false,     \"httpOnly\": false,     \"name\": \"__Secure-1PAPISID\",     \"path\": \"/\",     \"sameSite\": \"unspecified\",     \"secure\": true,     \"session\": false,     \"storeId\": \"0\",     \"value\": \"F_XEkkukfQIXb_mC/AmIPuSLlYk2ua9uda\",     \"id\": 1 }, {     \"domain\": \".youtube.com\",     \"expirationDate\": 1758301281.027858,     \"hostOnly\": false,     \"httpOnly\": true,     \"name\": \"__Secure-1PSID\",     \"path\": \"/\",     \"sameSite\": \"unspecified\",     \"secure\": true,     \"session\": false,     \"storeId\": \"0\",     \"value\": \"g.a000mwghZ5TgoY_F0TzAHcM5Ouy28CXWWw1Oi1pZPou5odtuY384Org7TSFiFAi9PfY7673aOgACgYKAcgSAQ4SFQHGX2MiYi48jtghZb-tD3FtwsIdiRoVAUF8yKpfkq655TiAjpm9ShQ62amf0076\",     \"id\": 2 }, {     \"domain\": \".youtube.com\",     \"expirationDate\": 1755295067.34065,     \"hostOnly\": false,     \"httpOnly\": true,     \"name\": \"__Secure-1PSIDCC\",     \"path\": \"/\",     \"sameSite\": \"unspecified\",     \"secure\": true,     \"session\": false,     \"storeId\": \"0\",     \"value\": \"AKEyXzUvS9cMfDbz2Fk58BEgAb-Ku5Ga6E6HoaHinlZ7SfqANwnClJ7FX5lZAqZtdi-IsgafDA\",     \"id\": 3 }, {     \"domain\": \".youtube.com\",     \"expirationDate\": 1755295065.947981,     \"hostOnly\": false,     \"httpOnly\": true,     \"name\": \"__Secure-1PSIDTS\",     \"path\": \"/\",     \"sameSite\": \"unspecified\",     \"secure\": true,     \"session\": false,     \"storeId\": \"0\",     \"value\": \"sidts-CjIBUFGoh1o0bSGnF7HCwtzDWRFrROUDIh75nNMqro5jnWSZkzXk1L_2P3zD1H_s_U9j7RAA\",     \"id\": 4 }, {     \"domain\": \".youtube.com\",     \"expirationDate\": 1758301281.028159,     \"hostOnly\": false,     \"httpOnly\": false,     \"name\": \"__Secure-3PAPISID\",     \"path\": \"/\",     \"sameSite\": \"no_restriction\",     \"secure\": true,     \"session\": false,     \"storeId\": \"0\",     \"value\": \"F_XEkkukfQIXb_mC/AmIPuSLlYk2ua9uda\",     \"id\": 5 }, {     \"domain\": \".youtube.com\",     \"expirationDate\": 1758301281.027904,     \"hostOnly\": false,     \"httpOnly\": true,     \"name\": \"__Secure-3PSID\",     \"path\": \"/\",     \"sameSite\": \"no_restriction\",     \"secure\": true,     \"session\": false,     \"storeId\": \"0\",     \"value\": \"g.a000mwghZ5TgoY_F0TzAHcM5Ouy28CXWWw1Oi1pZPou5odtuY384Tsm-utwoUkHzZ_RVAhhXvAACgYKAScSAQ4SFQHGX2MiDSS0H8sLPZvQw3qSL7DJ0BoVAUF8yKpztHlGIgc1IQ334C4b5ZiR0076\",     \"id\": 6 }, {     \"domain\": \".youtube.com\",     \"expirationDate\": 1755295067.340805,     \"hostOnly\": false,     \"httpOnly\": true,     \"name\": \"__Secure-3PSIDCC\",     \"path\": \"/\",     \"sameSite\": \"no_restriction\",     \"secure\": true,     \"session\": false,     \"storeId\": \"0\",     \"value\": \"AKEyXzVOR0wHDIwMuv2Yx5-sMFKNVUbeifR7SluDxVfSg-6OHERuvQOEk1KPmk1eLw_Fu-FM-w\",     \"id\": 7 }, {     \"domain\": \".youtube.com\",     \"expirationDate\": 1755295065.948227,     \"hostOnly\": false,     \"httpOnly\": true,     \"name\": \"__Secure-3PSIDTS\",     \"path\": \"/\",     \"sameSite\": \"no_restriction\",     \"secure\": true,     \"session\": false,     \"storeId\": \"0\",     \"value\": \"sidts-CjIBUFGoh1o0bSGnF7HCwtzDWRFrROUDIh75nNMqro5jnWSZkzXk1L_2P3zD1H_s_U9j7RAA\",     \"id\": 8 }, {     \"domain\": \".youtube.com\",     \"expirationDate\": 1758301281.028041,     \"hostOnly\": false,     \"httpOnly\": false,     \"name\": \"APISID\",     \"path\": \"/\",     \"sameSite\": \"unspecified\",     \"secure\": false,     \"session\": false,     \"storeId\": \"0\",     \"value\": \"qnK13I02_QHFXwV0/Ao-EiGJgUUKIcsTeR\",     \"id\": 9 }, {     \"domain\": \".youtube.com\",     \"expirationDate\": 1758301281.027963,     \"hostOnly\": false,     \"httpOnly\": true,     \"name\": \"HSID\",     \"path\": \"/\",     \"sameSite\": \"unspecified\",     \"secure\": false,     \"session\": false,     \"storeId\": \"0\",     \"value\": \"AXAXg240WXItYWK5N\",     \"id\": 10 }, {     \"domain\": \".youtube.com\",     \"expirationDate\": 1758301295.810286,     \"hostOnly\": false,     \"httpOnly\": true,     \"name\": \"LOGIN_INFO\",     \"path\": \"/\",     \"sameSite\": \"no_restriction\",     \"secure\": true,     \"session\": false,     \"storeId\": \"0\",     \"value\": \"AFmmF2swRQIhAOt9XUc8PExysyVoNMAc2npAnoxenn10Jaa5zJdTse_gAiANeTkDFkBn3-Q7uQf_yErlNeGZccSixOJweEDjfclCiA:QUQ3MjNmd3hWV2JMdkktZ0hnTWp3UE5lcExvWXRNbVNSMi0yaVlLNjNlWjcycThDR0F6c0MwQkhRQWRRVzJERUE3cHpWWVNGdlpRdlJqLWtWd0Z1c2tnZ2xQazhHM0FPVmpxclNSbFROTmhkd3lWN1liNDBZQ1VjZWh6NGdnSmVvNTR4aDdkemVMMVZkU1doVjluRmFGLV8zcnViNld6Sk5R\",     \"id\": 11 }, {     \"domain\": \".youtube.com\",     \"expirationDate\": 1758319032.564903,     \"hostOnly\": false,     \"httpOnly\": false,     \"name\": \"PREF\",     \"path\": \"/\",     \"sameSite\": \"unspecified\",     \"secure\": true,     \"session\": false,     \"storeId\": \"0\",     \"value\": \"tz=America.Bogota&f4=4000000\",     \"id\": 12 }, {     \"domain\": \".youtube.com\",     \"expirationDate\": 1758301281.028079,     \"hostOnly\": false,     \"httpOnly\": false,     \"name\": \"SAPISID\",     \"path\": \"/\",     \"sameSite\": \"unspecified\",     \"secure\": true,     \"session\": false,     \"storeId\": \"0\",     \"value\": \"F_XEkkukfQIXb_mC/AmIPuSLlYk2ua9uda\",     \"id\": 13 }, {     \"domain\": \".youtube.com\",     \"expirationDate\": 1758301281.027615,     \"hostOnly\": false,     \"httpOnly\": false,     \"name\": \"SID\",     \"path\": \"/\",     \"sameSite\": \"unspecified\",     \"secure\": false,     \"session\": false,     \"storeId\": \"0\",     \"value\": \"g.a000mwghZ5TgoY_F0TzAHcM5Ouy28CXWWw1Oi1pZPou5odtuY384RCcOxzIaq53najX1LGdA5AACgYKAQISAQ4SFQHGX2MilswkTN9Yj3ZxmJ-IzzYKvBoVAUF8yKorLMgYC9UHMC2dY1q_MiOZ0076\",     \"id\": 14 }, {     \"domain\": \".youtube.com\",     \"expirationDate\": 1755295067.34028,     \"hostOnly\": false,     \"httpOnly\": false,     \"name\": \"SIDCC\",     \"path\": \"/\",     \"sameSite\": \"unspecified\",     \"secure\": false,     \"session\": false,     \"storeId\": \"0\",     \"value\": \"AKEyXzU41JMVZHT5JEcrK2mHgstoco4U80qUIkRjhm2T74cs6mpe3zOhJ3rAwKnXpUfzqn7Pvg\",     \"id\": 15 }, {     \"domain\": \".youtube.com\",     \"expirationDate\": 1758301281.028003,     \"hostOnly\": false,     \"httpOnly\": true,     \"name\": \"SSID\",     \"path\": \"/\",     \"sameSite\": \"unspecified\",     \"secure\": true,     \"session\": false,     \"storeId\": \"0\",     \"value\": \"AQeM2HSPb1KJY4AeG\",     \"id\": 16 } ]\n",
            "Ingrese la URL del video de YouTube: https://www.youtube.com/watch?v=RuvvCR_-s4M\n",
            "[youtube] Extracting URL: https://www.youtube.com/watch?v=RuvvCR_-s4M\n",
            "[youtube] RuvvCR_-s4M: Downloading webpage\n",
            "[youtube] RuvvCR_-s4M: Downloading ios player API JSON\n",
            "[youtube] RuvvCR_-s4M: Downloading web creator player API JSON\n",
            "[youtube] RuvvCR_-s4M: Downloading player 53afa3ce\n",
            "[youtube] RuvvCR_-s4M: Downloading m3u8 information\n",
            "[info] RuvvCR_-s4M: Downloading 1 format(s): 137+251\n",
            "[download] Destination: CURSO USB TIPO C NOTEBOOK 2024.f137.mp4\n",
            "[download]  33.8% of    3.21GiB at    7.48MiB/s ETA 04:51"
          ]
        }
      ]
    }
  ]
}